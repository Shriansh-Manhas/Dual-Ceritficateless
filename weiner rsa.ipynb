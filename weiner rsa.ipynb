{
 "cells": [
  {
   "cell_type": "code",
   "execution_count": 2,
   "metadata": {},
   "outputs": [],
   "source": [
    "import owiener"
   ]
  },
  {
   "cell_type": "code",
   "execution_count": 9,
   "metadata": {},
   "outputs": [
    {
     "name": "stdout",
     "output_type": "stream",
     "text": [
      "Hacked d=17312568137996194995636519367346061901588474856693513007463891873660468786601\n"
     ]
    }
   ],
   "source": [
    "e = 245024798491147055188729520146197011438197678864487592385764439829246567323991684049006618918704298691768732521786253749598821148466481831103570310176683880816889032089495999323319625728756587470285822954987427699811773384917216382050397284205118988963002371628816915712151309231718215807347216608190244605529\n",
    "n = 533298096284311422721905463480366879285162150712967412559080410775677065056125104006377546797676720665861689318848852068088656640338354080891911092137282094712833221156198941532257991244266628744846063030895533639135580558722509626456289587282203632505494040287950267888709568204231462992747790542819046208691\n",
    "d = owiener.attack(e, n)\n",
    "\n",
    "if d is None:\n",
    "    print(\"Failed\")\n",
    "else:\n",
    "    print(\"Hacked d={}\".format(d))"
   ]
  },
  {
   "cell_type": "code",
   "execution_count": 4,
   "metadata": {},
   "outputs": [],
   "source": [
    "import rsa"
   ]
  },
  {
   "cell_type": "code",
   "execution_count": 5,
   "metadata": {},
   "outputs": [],
   "source": [
    "public_key, private_key = rsa.newkeys(1024)"
   ]
  },
  {
   "cell_type": "code",
   "execution_count": 8,
   "metadata": {},
   "outputs": [
    {
     "data": {
      "text/plain": [
       "PublicKey(110524150776079247301744237639014743698836045880084321375684624586550443174857083419050922863057155488834484129446261392731181416374592369031485288943524718486651213049541761620100095190935721790630965019284685307972647702768730740835774997550153131556364492994483131064785379005837593779725347274622708407641, 65537)"
      ]
     },
     "execution_count": 8,
     "metadata": {},
     "output_type": "execute_result"
    }
   ],
   "source": [
    "public_key"
   ]
  }
 ],
 "metadata": {
  "kernelspec": {
   "display_name": "Python 3.9.7 ('base')",
   "language": "python",
   "name": "python3"
  },
  "language_info": {
   "codemirror_mode": {
    "name": "ipython",
    "version": 3
   },
   "file_extension": ".py",
   "mimetype": "text/x-python",
   "name": "python",
   "nbconvert_exporter": "python",
   "pygments_lexer": "ipython3",
   "version": "3.9.7"
  },
  "orig_nbformat": 4,
  "vscode": {
   "interpreter": {
    "hash": "be8c15bef0c1816d403ef6f895cd1a35503c74f23487694f3c001c3438f2c8d3"
   }
  }
 },
 "nbformat": 4,
 "nbformat_minor": 2
}
