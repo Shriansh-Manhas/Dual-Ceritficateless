{
 "cells": [
  {
   "cell_type": "code",
   "execution_count": 51,
   "metadata": {},
   "outputs": [
    {
     "name": "stdout",
     "output_type": "stream",
     "text": [
      "Using matplotlib backend: Qt5Agg\n"
     ]
    }
   ],
   "source": [
    "import time\n",
    "start_time = time.time()\n",
    "import cv2\n",
    "import numpy as np\n",
    "import math\n",
    "import blowfish\n",
    "from PIL import Image \n",
    "from Cryptodome.Cipher import AES\n",
    "\n",
    "%matplotlib auto\n"
   ]
  },
  {
   "cell_type": "code",
   "execution_count": 52,
   "metadata": {},
   "outputs": [],
   "source": [
    "image = cv2.imread('bird.jpg')\n",
    "cv2.imshow('original', image)"
   ]
  },
  {
   "cell_type": "code",
   "execution_count": 53,
   "metadata": {},
   "outputs": [],
   "source": [
    "img_str = cv2.imencode('.jpg', image)[1].tobytes()\n",
    "if len(img_str)%8 != 0:#check for compatibility\n",
    "    while len(img_str)%8 != 0:\n",
    "        img_str += b'\\x00'\n",
    "\n",
    "og_img_np = np.frombuffer(img_str, dtype=np.uint8)\n",
    "img_str2 = img_str.replace(b'\\x00', b'\\x01')\n",
    "og_img_np2 = np.frombuffer(img_str2, dtype=np.uint8)"
   ]
  },
  {
   "cell_type": "code",
   "execution_count": 54,
   "metadata": {},
   "outputs": [
    {
     "data": {
      "text/plain": [
       "1493.0"
      ]
     },
     "execution_count": 54,
     "metadata": {},
     "output_type": "execute_result"
    }
   ],
   "source": [
    "len(img_str)/8 #check for compatibility"
   ]
  },
  {
   "cell_type": "code",
   "execution_count": 55,
   "metadata": {},
   "outputs": [],
   "source": [
    "cipher_b = blowfish.Cipher(b'blowfishpasswordishere')"
   ]
  },
  {
   "cell_type": "code",
   "execution_count": 56,
   "metadata": {},
   "outputs": [],
   "source": [
    "data = img_str # electronic codebook mode\n",
    "\n",
    "data_encrypted = b\"\".join(cipher_b.encrypt_ecb(data))"
   ]
  },
  {
   "cell_type": "code",
   "execution_count": 57,
   "metadata": {},
   "outputs": [],
   "source": [
    "img_str_np_enc_blow = np.frombuffer(data_encrypted, dtype=np.uint8)"
   ]
  },
  {
   "cell_type": "code",
   "execution_count": 58,
   "metadata": {},
   "outputs": [],
   "source": [
    "a = len(img_str_np_enc_blow)\n",
    "i = 1\n",
    "while a%2 == 0:\n",
    "    i = i*2\n",
    "    a = a//2\n",
    "\n",
    "img_str_np_enc_blow1 = img_str_np_enc_blow.reshape(i, len(img_str_np_enc_blow)//i)\n",
    "enc_img = Image.fromarray(img_str_np_enc_blow)\n",
    "enc_img.show(title='blowfish encrypted')"
   ]
  },
  {
   "cell_type": "code",
   "execution_count": 59,
   "metadata": {},
   "outputs": [],
   "source": [
    "key = b'aespasswordisnow'\n",
    "cipher_a = AES.new(key, AES.MODE_EAX)\n",
    "nonce = cipher_a.nonce\n",
    "ciphertext_enc, tag = cipher_a.encrypt_and_digest(data_encrypted)"
   ]
  },
  {
   "cell_type": "code",
   "execution_count": 60,
   "metadata": {},
   "outputs": [],
   "source": [
    "img_str_np_enc_aes = np.frombuffer(ciphertext_enc, dtype=np.uint8)\n",
    "img_str_np_enc_aes = np.frombuffer(ciphertext_enc, dtype=np.uint8)\n",
    "a = len(img_str_np_enc_aes)\n",
    "i = 1\n",
    "while a%2 == 0:\n",
    "    i = i*2\n",
    "    a = a//2\n",
    "\n",
    "\n",
    "img_str_np_enc_aes1 = img_str_np_enc_aes.reshape(i,len(img_str_np_enc_aes)//i)"
   ]
  },
  {
   "cell_type": "code",
   "execution_count": 61,
   "metadata": {},
   "outputs": [],
   "source": [
    "enc_img = Image.fromarray(img_str_np_enc_aes1, 'L')\n",
    "enc_img.show(title='aes encrypted')"
   ]
  },
  {
   "cell_type": "code",
   "execution_count": 62,
   "metadata": {},
   "outputs": [
    {
     "name": "stdout",
     "output_type": "stream",
     "text": [
      "AES decryption successful\n"
     ]
    }
   ],
   "source": [
    "cipher_a = AES.new(key, AES.MODE_EAX, nonce=nonce)\n",
    "plaintext_enc = cipher_a.decrypt(ciphertext_enc)\n",
    "try:\n",
    "    cipher_a.decrypt(ciphertext_enc)\n",
    "    print(\"AES decryption successful\")\n",
    "except ValueError:\n",
    "    print(\"Decryption failed\")"
   ]
  },
  {
   "cell_type": "code",
   "execution_count": 63,
   "metadata": {},
   "outputs": [],
   "source": [
    "data_decrypted = b\"\".join(cipher_b.decrypt_ecb(plaintext_enc))\n",
    "\n",
    "#assert data == data_decrypted"
   ]
  },
  {
   "cell_type": "code",
   "execution_count": 64,
   "metadata": {},
   "outputs": [],
   "source": [
    "img_str_np = np.frombuffer(data_decrypted, dtype=np.uint8)"
   ]
  },
  {
   "cell_type": "code",
   "execution_count": 65,
   "metadata": {},
   "outputs": [],
   "source": [
    "img = cv2.imdecode(img_str_np, cv2.IMREAD_COLOR)"
   ]
  },
  {
   "cell_type": "code",
   "execution_count": 66,
   "metadata": {},
   "outputs": [],
   "source": [
    "cv2.imshow('decrypted', img)"
   ]
  },
  {
   "cell_type": "code",
   "execution_count": 67,
   "metadata": {},
   "outputs": [
    {
     "name": "stdout",
     "output_type": "stream",
     "text": [
      "43.22586472210333\n"
     ]
    }
   ],
   "source": [
    "def psnr(img1, img2):\n",
    "    mse = np.mean((img1 - img2) ** 2)\n",
    "    if mse == 0:\n",
    "        return 100\n",
    "    PIXEL_MAX = 255.0\n",
    "    return 20 * math.log10(PIXEL_MAX / math.sqrt(mse))\n",
    "\n",
    "d = psnr(image, img)\n",
    "print(d)"
   ]
  },
  {
   "cell_type": "code",
   "execution_count": 68,
   "metadata": {},
   "outputs": [
    {
     "data": {
      "text/plain": [
       "42.722213649793986"
      ]
     },
     "execution_count": 68,
     "metadata": {},
     "output_type": "execute_result"
    }
   ],
   "source": [
    "cv2.PSNR(image, img)"
   ]
  },
  {
   "cell_type": "code",
   "execution_count": 69,
   "metadata": {},
   "outputs": [
    {
     "data": {
      "text/plain": [
       "3.0938117793787896"
      ]
     },
     "execution_count": 69,
     "metadata": {},
     "output_type": "execute_result"
    }
   ],
   "source": [
    "MSE = np.square(np.subtract(image,img)).mean()\n",
    "MSE"
   ]
  },
  {
   "cell_type": "code",
   "execution_count": 70,
   "metadata": {},
   "outputs": [
    {
     "data": {
      "text/plain": [
       "array([[1.        , 0.99943421],\n",
       "       [0.99943421, 1.        ]])"
      ]
     },
     "execution_count": 70,
     "metadata": {},
     "output_type": "execute_result"
    }
   ],
   "source": [
    "np.corrcoef(image.ravel(), img.ravel())"
   ]
  },
  {
   "cell_type": "code",
   "execution_count": 71,
   "metadata": {},
   "outputs": [
    {
     "name": "stdout",
     "output_type": "stream",
     "text": [
      "--- 7.54942774772644 seconds ---\n"
     ]
    }
   ],
   "source": [
    "print(\"--- %s seconds ---\" % (time.time() - start_time))"
   ]
  },
  {
   "cell_type": "code",
   "execution_count": 72,
   "metadata": {},
   "outputs": [],
   "source": [
    "def entropy(array):\n",
    "    total_entropy = 0\n",
    "    for i in array:\n",
    "        total_entropy += -i * math.log(i, 2)\n",
    "    return total_entropy"
   ]
  },
  {
   "cell_type": "code",
   "execution_count": 73,
   "metadata": {},
   "outputs": [],
   "source": [
    "#entropy(img_str_np_enc)"
   ]
  }
 ],
 "metadata": {
  "interpreter": {
   "hash": "be8c15bef0c1816d403ef6f895cd1a35503c74f23487694f3c001c3438f2c8d3"
  },
  "kernelspec": {
   "display_name": "Python 3 (ipykernel)",
   "language": "python",
   "name": "python3"
  },
  "language_info": {
   "codemirror_mode": {
    "name": "ipython",
    "version": 3
   },
   "file_extension": ".py",
   "mimetype": "text/x-python",
   "name": "python",
   "nbconvert_exporter": "python",
   "pygments_lexer": "ipython3",
   "version": "3.9.7"
  }
 },
 "nbformat": 4,
 "nbformat_minor": 2
}
