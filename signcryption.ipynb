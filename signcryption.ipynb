{
 "cells": [
  {
   "cell_type": "code",
   "execution_count": null,
   "metadata": {},
   "outputs": [],
   "source": []
  },
  {
   "cell_type": "code",
   "execution_count": 1,
   "metadata": {},
   "outputs": [
    {
     "name": "stdout",
     "output_type": "stream",
     "text": [
      "65536\n"
     ]
    }
   ],
   "source": [
    "from SystemParams import *\n",
    "\n",
    "#       KGC generates params\n",
    "kgc_1 = KGC(256)\n",
    "params = Params(kgc_1.p, kgc_1.q, kgc_1.g, kgc_1.p_pub)\n",
    "Alice = User( 'Alice', params )\n",
    "Bob = User( 'Bob', params )\n",
    "kgc_1.partialkey_compute(Alice)\n",
    "kgc_1.partialkey_compute(Bob)\n",
    "\n",
    "\n",
    "if __name__ == \"__main__\":\n",
    "\tm = mpz(2 ** 16)\n",
    "\tSigncryption_text = Alice.signcrypt( Bob, params, m )\n",
    "\tm_un = Bob.unsigncrypt( Alice, params, Signcryption_text )\n",
    "\tprint(m_un)\n"
   ]
  },
  {
   "cell_type": "code",
   "execution_count": null,
   "metadata": {},
   "outputs": [],
   "source": []
  }
 ],
 "metadata": {
  "kernelspec": {
   "display_name": "Python 3.9.7 ('base')",
   "language": "python",
   "name": "python3"
  },
  "language_info": {
   "codemirror_mode": {
    "name": "ipython",
    "version": 3
   },
   "file_extension": ".py",
   "mimetype": "text/x-python",
   "name": "python",
   "nbconvert_exporter": "python",
   "pygments_lexer": "ipython3",
   "version": "3.9.7"
  },
  "orig_nbformat": 4,
  "vscode": {
   "interpreter": {
    "hash": "be8c15bef0c1816d403ef6f895cd1a35503c74f23487694f3c001c3438f2c8d3"
   }
  }
 },
 "nbformat": 4,
 "nbformat_minor": 2
}
