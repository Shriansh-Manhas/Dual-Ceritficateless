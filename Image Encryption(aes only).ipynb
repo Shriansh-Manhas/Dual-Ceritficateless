{
 "cells": [
  {
   "cell_type": "code",
   "execution_count": 20,
   "metadata": {},
   "outputs": [
    {
     "name": "stdout",
     "output_type": "stream",
     "text": [
      "Using matplotlib backend: Qt5Agg\n"
     ]
    }
   ],
   "source": [
    "import time\n",
    "start_time = time.time()\n",
    "import cv2\n",
    "import numpy as np\n",
    "import math\n",
    "from PIL import Image\n",
    "from Cryptodome.Cipher import AES\n",
    "%matplotlib auto\n",
    "image = cv2.imread('bird.jpg',1)\n",
    "cv2.imshow('original', image)"
   ]
  },
  {
   "cell_type": "code",
   "execution_count": 21,
   "metadata": {},
   "outputs": [],
   "source": [
    "img_str = cv2.imencode('.jpg', image)[1].tobytes()\n",
    "if len(img_str)%8 != 0:#check for compatibility\n",
    "    while len(img_str)%8 != 0:\n",
    "        img_str += b'\\x00'\n",
    "\n",
    "og_img_np = np.frombuffer(img_str, dtype=np.uint8)"
   ]
  },
  {
   "cell_type": "code",
   "execution_count": 22,
   "metadata": {},
   "outputs": [],
   "source": [
    "key = b'aespasswordisnow'\n",
    "cipher_a = AES.new(key, AES.MODE_EAX)\n",
    "nonce = cipher_a.nonce\n",
    "ciphertext_enc, tag = cipher_a.encrypt_and_digest(img_str)"
   ]
  },
  {
   "cell_type": "code",
   "execution_count": 23,
   "metadata": {},
   "outputs": [],
   "source": [
    "cipher_a = AES.new(key, AES.MODE_EAX, nonce=nonce)\n",
    "plaintext_enc = cipher_a.decrypt(ciphertext_enc)"
   ]
  },
  {
   "cell_type": "code",
   "execution_count": 24,
   "metadata": {},
   "outputs": [],
   "source": [
    "img_str_np = np.frombuffer(plaintext_enc, dtype=np.uint8)"
   ]
  },
  {
   "cell_type": "code",
   "execution_count": 25,
   "metadata": {},
   "outputs": [],
   "source": [
    "img = cv2.imdecode(img_str_np, 1)"
   ]
  },
  {
   "cell_type": "code",
   "execution_count": 26,
   "metadata": {},
   "outputs": [],
   "source": [
    "cv2.imshow('decrypted', img)"
   ]
  },
  {
   "cell_type": "code",
   "execution_count": 27,
   "metadata": {},
   "outputs": [],
   "source": [
    "#img_str2 = cv2.imencode('.jpg', img)[1].tobytes()\n",
    "#img_str2 = img_str2[0:len(img_str)]\n",
    "#img_str_np2 = np.frombuffer(img_str2, dtype=np.uint8)"
   ]
  },
  {
   "cell_type": "code",
   "execution_count": 28,
   "metadata": {},
   "outputs": [],
   "source": [
    "def nearest_square(limit):\n",
    "    next = math.floor(math.sqrt(limit)) + 1\n",
    "    return next * next"
   ]
  },
  {
   "cell_type": "code",
   "execution_count": 29,
   "metadata": {},
   "outputs": [],
   "source": [
    "img_str_np_enc = np.frombuffer(ciphertext_enc, dtype=np.uint8)\n",
    "#add elements to the end of the array to make it a square\n",
    "q = nearest_square(len(img_str_np_enc))\n",
    "\n",
    "while len(img_str_np_enc) != q:\n",
    "    img_str_np_enc = np.append(img_str_np_enc, 0)\n",
    "    \n",
    "\n",
    "img_str_np_enc1 = img_str_np_enc.reshape(int(math.sqrt(len(img_str_np_enc))), int(math.sqrt(len(img_str_np_enc))))"
   ]
  },
  {
   "cell_type": "code",
   "execution_count": 30,
   "metadata": {},
   "outputs": [
    {
     "name": "stdout",
     "output_type": "stream",
     "text": [
      "(110, 110)\n"
     ]
    }
   ],
   "source": [
    "enc_img = Image.fromarray(img_str_np_enc1)\n",
    "print(img_str_np_enc1.shape)"
   ]
  },
  {
   "cell_type": "code",
   "execution_count": 31,
   "metadata": {},
   "outputs": [],
   "source": [
    "enc_img.show()"
   ]
  },
  {
   "cell_type": "code",
   "execution_count": 32,
   "metadata": {},
   "outputs": [
    {
     "name": "stdout",
     "output_type": "stream",
     "text": [
      "43.22586472210333\n"
     ]
    }
   ],
   "source": [
    "def psnr(img1, img2):\n",
    "    mse = np.mean((img1 - img2) ** 2)\n",
    "    if mse == 0:\n",
    "        return 100\n",
    "    PIXEL_MAX = 255.0\n",
    "    return 20 * math.log10(255 / math.sqrt(mse))\n",
    "\n",
    "d = psnr(image, img)\n",
    "print(d)"
   ]
  },
  {
   "cell_type": "code",
   "execution_count": 33,
   "metadata": {},
   "outputs": [
    {
     "data": {
      "text/plain": [
       "42.722213649793986"
      ]
     },
     "execution_count": 33,
     "metadata": {},
     "output_type": "execute_result"
    }
   ],
   "source": [
    "cv2.PSNR(image, img)"
   ]
  },
  {
   "cell_type": "code",
   "execution_count": 34,
   "metadata": {},
   "outputs": [
    {
     "data": {
      "text/plain": [
       "0.0"
      ]
     },
     "execution_count": 34,
     "metadata": {},
     "output_type": "execute_result"
    }
   ],
   "source": [
    "MSE = np.square(np.subtract(img_str_np,og_img_np)).mean()\n",
    "MSE"
   ]
  },
  {
   "cell_type": "code",
   "execution_count": 35,
   "metadata": {},
   "outputs": [
    {
     "name": "stdout",
     "output_type": "stream",
     "text": [
      "MSE: 3.0938117793787896\n"
     ]
    }
   ],
   "source": [
    "Y = np.square(np.subtract(image,img)).mean()\n",
    "print(\"MSE:\", Y)"
   ]
  },
  {
   "cell_type": "code",
   "execution_count": 36,
   "metadata": {},
   "outputs": [
    {
     "data": {
      "text/plain": [
       "array([[1.        , 0.99943421],\n",
       "       [0.99943421, 1.        ]])"
      ]
     },
     "execution_count": 36,
     "metadata": {},
     "output_type": "execute_result"
    }
   ],
   "source": [
    "np.corrcoef(image.ravel(), img.ravel())"
   ]
  },
  {
   "cell_type": "code",
   "execution_count": 37,
   "metadata": {},
   "outputs": [],
   "source": [
    "def entropy(array):\n",
    "    total_entropy = 0\n",
    "    for i in array:\n",
    "        total_entropy += -i * math.log(i, 2)\n",
    "    return total_entropy"
   ]
  },
  {
   "cell_type": "code",
   "execution_count": 38,
   "metadata": {},
   "outputs": [
    {
     "name": "stdout",
     "output_type": "stream",
     "text": [
      "--- 3.706216335296631 seconds ---\n"
     ]
    }
   ],
   "source": [
    "print(\"--- %s seconds ---\" % (time.time() - start_time))"
   ]
  }
 ],
 "metadata": {
  "interpreter": {
   "hash": "be8c15bef0c1816d403ef6f895cd1a35503c74f23487694f3c001c3438f2c8d3"
  },
  "kernelspec": {
   "display_name": "Python 3 (ipykernel)",
   "language": "python",
   "name": "python3"
  },
  "language_info": {
   "codemirror_mode": {
    "name": "ipython",
    "version": 3
   },
   "file_extension": ".py",
   "mimetype": "text/x-python",
   "name": "python",
   "nbconvert_exporter": "python",
   "pygments_lexer": "ipython3",
   "version": "3.9.7"
  }
 },
 "nbformat": 4,
 "nbformat_minor": 2
}
