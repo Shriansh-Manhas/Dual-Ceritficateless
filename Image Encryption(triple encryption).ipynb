{
 "cells": [
  {
   "cell_type": "code",
   "execution_count": 116,
   "metadata": {},
   "outputs": [],
   "source": [
    "#Triple Encryption using AES,Blowfish and DES. The key of AES is encrypted using RSA."
   ]
  },
  {
   "cell_type": "code",
   "execution_count": 117,
   "metadata": {},
   "outputs": [
    {
     "name": "stdout",
     "output_type": "stream",
     "text": [
      "Using matplotlib backend: Qt5Agg\n"
     ]
    }
   ],
   "source": [
    "import time\n",
    "start_time = time.time()\n",
    "import numpy as np\n",
    "import blowfish\n",
    "import rsa\n",
    "from Cryptodome.Cipher import AES\n",
    "from Cryptodome.Cipher import DES\n",
    "from PIL import Image\n",
    "import cv2\n",
    "import math\n",
    "\n",
    "%matplotlib auto"
   ]
  },
  {
   "cell_type": "code",
   "execution_count": 118,
   "metadata": {},
   "outputs": [],
   "source": [
    "image = cv2.imread('bird.jpg', 1)\n",
    "cv2.imshow('original', image)"
   ]
  },
  {
   "cell_type": "code",
   "execution_count": 119,
   "metadata": {},
   "outputs": [],
   "source": [
    "img_str = cv2.imencode('.jpg', image)[1].tobytes()"
   ]
  },
  {
   "cell_type": "code",
   "execution_count": 120,
   "metadata": {},
   "outputs": [],
   "source": [
    "if len(img_str)%8 != 0:#check for compatibility\n",
    "    while len(img_str)%8 != 0:\n",
    "        img_str += b'\\x00'\n",
    "\n",
    "og_img_np = np.frombuffer(img_str, dtype=np.uint8)"
   ]
  },
  {
   "cell_type": "code",
   "execution_count": 121,
   "metadata": {},
   "outputs": [],
   "source": [
    "key = b'aespasswordisnow'\n",
    "cipher_a = AES.new(key, AES.MODE_EAX)\n",
    "nonce = cipher_a.nonce\n",
    "ciphertext_enc, tag = cipher_a.encrypt_and_digest(img_str)"
   ]
  },
  {
   "cell_type": "code",
   "execution_count": 122,
   "metadata": {},
   "outputs": [],
   "source": [
    "public_key, private_key = rsa.newkeys(1024)"
   ]
  },
  {
   "cell_type": "code",
   "execution_count": 123,
   "metadata": {},
   "outputs": [],
   "source": [
    "sig = rsa.sign(key, private_key, 'SHA-256')\n",
    "enc_key = rsa.encrypt(key, public_key)"
   ]
  },
  {
   "cell_type": "code",
   "execution_count": 124,
   "metadata": {},
   "outputs": [],
   "source": [
    "img_str_np_enc_aes = np.frombuffer(ciphertext_enc, dtype=np.uint8)\n",
    "a = len(img_str_np_enc_aes)\n",
    "i = 1\n",
    "while a%2 == 0:\n",
    "    i = i*2\n",
    "    a = a//2\n",
    "\n",
    "\n",
    "img_str_np_enc_aes1 = img_str_np_enc_aes.reshape(i,len(img_str_np_enc_aes)//i)"
   ]
  },
  {
   "cell_type": "code",
   "execution_count": 125,
   "metadata": {},
   "outputs": [],
   "source": [
    "enc_img_aes = Image.fromarray(img_str_np_enc_aes1, 'L')\n",
    "enc_img_aes.show(title='aes encrypted')"
   ]
  },
  {
   "cell_type": "code",
   "execution_count": 126,
   "metadata": {},
   "outputs": [],
   "source": [
    "cipher_b = blowfish.Cipher(b'blowfishpasswordishere')"
   ]
  },
  {
   "cell_type": "code",
   "execution_count": 127,
   "metadata": {},
   "outputs": [],
   "source": [
    "data = img_str # electronic codebook mode\n",
    "\n",
    "data_encrypted = b\"\".join(cipher_b.encrypt_ecb(ciphertext_enc))"
   ]
  },
  {
   "cell_type": "code",
   "execution_count": 128,
   "metadata": {},
   "outputs": [],
   "source": [
    "img_str_np_enc_blow = np.frombuffer(data_encrypted, dtype=np.uint8)\n",
    "a = len(img_str_np_enc_blow)\n",
    "i = 1\n",
    "while a%2 == 0:\n",
    "    i = i*2\n",
    "    a = a//2\n",
    "\n",
    "\n",
    "img_str_np_enc_blow1 = img_str_np_enc_blow.reshape(i,len(img_str_np_enc_blow)//i)"
   ]
  },
  {
   "cell_type": "code",
   "execution_count": 129,
   "metadata": {},
   "outputs": [],
   "source": [
    "enc_img_blow = Image.fromarray(img_str_np_enc_blow1, 'L')\n",
    "enc_img_blow.show(title='blowfish encrypted')"
   ]
  },
  {
   "cell_type": "code",
   "execution_count": 130,
   "metadata": {},
   "outputs": [],
   "source": [
    "key_d = b'despasci'\n",
    "cipher_d = DES.new(key_d, DES.MODE_EAX)\n",
    "nonce_d = cipher_d.nonce\n",
    "msg_des = cipher_d.encrypt(data_encrypted)"
   ]
  },
  {
   "cell_type": "code",
   "execution_count": 131,
   "metadata": {},
   "outputs": [],
   "source": [
    "cipher_d = DES.new(key_d, DES.MODE_EAX, nonce_d)\n",
    "msg_des_dec = cipher_d.decrypt(msg_des)\n",
    "\n",
    "assert msg_des_dec == data_encrypted"
   ]
  },
  {
   "cell_type": "code",
   "execution_count": 132,
   "metadata": {},
   "outputs": [],
   "source": [
    "img_str_np_enc_des = np.frombuffer(msg_des_dec, dtype=np.uint8)\n",
    "a = len(img_str_np_enc_des)\n",
    "i = 1\n",
    "while a%2 == 0:\n",
    "    i = i*2\n",
    "    a = a//2\n",
    "\n",
    "img_str_np_enc_des1 = img_str_np_enc_des.reshape(i,len(img_str_np_enc_des)//i)"
   ]
  },
  {
   "cell_type": "code",
   "execution_count": 133,
   "metadata": {},
   "outputs": [],
   "source": [
    "enc_img_des = Image.fromarray(img_str_np_enc_des1, 'L')\n",
    "enc_img_des.show(title='des encrypted')"
   ]
  },
  {
   "cell_type": "code",
   "execution_count": 134,
   "metadata": {},
   "outputs": [],
   "source": [
    "data_decrypted = b\"\".join(cipher_b.decrypt_ecb(data_encrypted))\n",
    "\n",
    "#assert data == data_decrypted"
   ]
  },
  {
   "cell_type": "code",
   "execution_count": 135,
   "metadata": {},
   "outputs": [
    {
     "data": {
      "text/plain": [
       "'SHA-256'"
      ]
     },
     "execution_count": 135,
     "metadata": {},
     "output_type": "execute_result"
    }
   ],
   "source": [
    "dec_key = rsa.decrypt(enc_key, private_key)\n",
    "rsa.verify(dec_key, sig, public_key)"
   ]
  },
  {
   "cell_type": "code",
   "execution_count": 136,
   "metadata": {},
   "outputs": [
    {
     "name": "stdout",
     "output_type": "stream",
     "text": [
      "AES decryption successful\n"
     ]
    }
   ],
   "source": [
    "cipher_a = AES.new(dec_key, AES.MODE_EAX, nonce=nonce)\n",
    "plaintext_enc = cipher_a.decrypt(data_decrypted)\n",
    "try:\n",
    "    cipher_a.decrypt(ciphertext_enc)\n",
    "    print(\"AES decryption successful\")\n",
    "except ValueError:\n",
    "    print(\"Decryption failed\")"
   ]
  },
  {
   "cell_type": "code",
   "execution_count": 137,
   "metadata": {},
   "outputs": [
    {
     "data": {
      "text/plain": [
       "array([255, 216, 255, ...,   0,   0,   0], dtype=uint8)"
      ]
     },
     "execution_count": 137,
     "metadata": {},
     "output_type": "execute_result"
    }
   ],
   "source": [
    "img_str_np = np.frombuffer(plaintext_enc, dtype=np.uint8)\n",
    "img_str_np"
   ]
  },
  {
   "cell_type": "code",
   "execution_count": 138,
   "metadata": {},
   "outputs": [],
   "source": [
    "img = cv2.imdecode(img_str_np, 1)"
   ]
  },
  {
   "cell_type": "code",
   "execution_count": 139,
   "metadata": {},
   "outputs": [],
   "source": [
    "cv2.imshow('decrypted', img)"
   ]
  },
  {
   "cell_type": "code",
   "execution_count": 140,
   "metadata": {},
   "outputs": [
    {
     "name": "stdout",
     "output_type": "stream",
     "text": [
      "43.22586472210333\n"
     ]
    }
   ],
   "source": [
    "def psnr(img1, img2):\n",
    "    mse = np.mean((img1 - img2) ** 2)\n",
    "    if mse == 0:\n",
    "        return 100\n",
    "    PIXEL_MAX = 255.0\n",
    "    return 20 * math.log10(PIXEL_MAX / math.sqrt(mse))\n",
    "\n",
    "d = psnr(image, img)\n",
    "print(d)"
   ]
  },
  {
   "cell_type": "code",
   "execution_count": 141,
   "metadata": {},
   "outputs": [
    {
     "data": {
      "text/plain": [
       "42.722213649793986"
      ]
     },
     "execution_count": 141,
     "metadata": {},
     "output_type": "execute_result"
    }
   ],
   "source": [
    "cv2.PSNR(image, img)"
   ]
  },
  {
   "cell_type": "code",
   "execution_count": 142,
   "metadata": {},
   "outputs": [
    {
     "name": "stdout",
     "output_type": "stream",
     "text": [
      "MSE: 3.0938117793787896\n"
     ]
    }
   ],
   "source": [
    "Y = np.square(np.subtract(image,img)).mean()\n",
    "print(\"MSE:\", Y)"
   ]
  },
  {
   "cell_type": "code",
   "execution_count": 143,
   "metadata": {},
   "outputs": [
    {
     "data": {
      "text/plain": [
       "array([[1.        , 0.99943421],\n",
       "       [0.99943421, 1.        ]])"
      ]
     },
     "execution_count": 143,
     "metadata": {},
     "output_type": "execute_result"
    }
   ],
   "source": [
    "np.corrcoef(image.ravel(), img.ravel())"
   ]
  },
  {
   "cell_type": "code",
   "execution_count": 144,
   "metadata": {},
   "outputs": [
    {
     "name": "stdout",
     "output_type": "stream",
     "text": [
      "--- 10.593448877334595 seconds ---\n"
     ]
    }
   ],
   "source": [
    "print(\"--- %s seconds ---\" % (time.time() - start_time))"
   ]
  }
 ],
 "metadata": {
  "interpreter": {
   "hash": "be8c15bef0c1816d403ef6f895cd1a35503c74f23487694f3c001c3438f2c8d3"
  },
  "kernelspec": {
   "display_name": "Python 3 (ipykernel)",
   "language": "python",
   "name": "python3"
  },
  "language_info": {
   "codemirror_mode": {
    "name": "ipython",
    "version": 3
   },
   "file_extension": ".py",
   "mimetype": "text/x-python",
   "name": "python",
   "nbconvert_exporter": "python",
   "pygments_lexer": "ipython3",
   "version": "3.9.7"
  }
 },
 "nbformat": 4,
 "nbformat_minor": 2
}
